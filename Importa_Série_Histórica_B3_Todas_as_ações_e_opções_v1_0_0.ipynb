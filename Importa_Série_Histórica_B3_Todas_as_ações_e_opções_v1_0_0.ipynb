{
  "nbformat": 4,
  "nbformat_minor": 0,
  "metadata": {
    "colab": {
      "provenance": [],
      "include_colab_link": true
    },
    "kernelspec": {
      "name": "python3",
      "display_name": "Python 3"
    },
    "language_info": {
      "name": "python"
    }
  },
  "cells": [
    {
      "cell_type": "markdown",
      "metadata": {
        "id": "view-in-github",
        "colab_type": "text"
      },
      "source": [
        "<a href=\"https://colab.research.google.com/github/Schiessl/AgoraVAI/blob/main/Importa_S%C3%A9rie_Hist%C3%B3rica_B3_Todas_as_a%C3%A7%C3%B5es_e_op%C3%A7%C3%B5es_v1_0_0.ipynb\" target=\"_parent\"><img src=\"https://colab.research.google.com/assets/colab-badge.svg\" alt=\"Open In Colab\"/></a>"
      ]
    },
    {
      "cell_type": "markdown",
      "source": [
        "# Importa bibliotecas"
      ],
      "metadata": {
        "id": "oSFX4slsLHJN"
      }
    },
    {
      "cell_type": "code",
      "source": [
        "import pandas as pd\n",
        "from datetime import datetime\n",
        "import matplotlib.pyplot as plt\n",
        "import seaborn as sns; sns.set()\n",
        "import matplotlib.pyplot as plt\n",
        "from matplotlib.dates import DateFormatter\n",
        "import matplotlib.dates as mdates\n"
      ],
      "metadata": {
        "id": "1Y14V3NuLAnw"
      },
      "execution_count": 4,
      "outputs": []
    },
    {
      "cell_type": "markdown",
      "source": [
        "#Define caminho e carrega arquivo\n",
        "\n",
        "### Série Histórica diária B3\n",
        "Arquivo disponível em:\n",
        "https://www.b3.com.br/pt_br/market-data-e-indices/servicos-de-dados/market-data/historico/mercado-a-vista/series-historicas/\n",
        "\n",
        "Para inserir o dado mais atual, baixe a série daqui:\n",
        "![histórico mais atual.png](data:image/png;base64,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)\n",
        "### Layout do arquivo\n",
        "Arquivo disponível em: https://www.b3.com.br/data/files/33/67/B9/50/D84057102C784E47AC094EA8/SeriesHistoricas_Layout.pdf\n"
      ],
      "metadata": {
        "id": "pQDDHJd8LMIH"
      }
    },
    {
      "cell_type": "code",
      "source": [
        "layout = [\n",
        "    (\"tipo_registro\", 2, 'str'),\n",
        "    (\"data_pregao\", 8, 'datetime'),\n",
        "    (\"cod_bdi\", 2, 'str'),\n",
        "    (\"cod_negociacao\", 12, 'str'),\n",
        "    (\"tipo_mercado\", 3, 'str'),\n",
        "    (\"nome_empresa\", 12, 'str'),\n",
        "    (\"especificacao_papel\", 10, 'str'),\n",
        "    (\"prazo_dias_merc_termo\", 3, 'str'),\n",
        "    (\"moeda_referencia\", 4, 'str'),\n",
        "    (\"preco_abertura\", 13, 'float'),\n",
        "    (\"preco_maximo\", 13, 'float'),\n",
        "    (\"preco_minimo\", 13, 'float'),\n",
        "    (\"preco_medio\", 13, 'float'),\n",
        "    (\"preco_ultimo_negocio\", 13, 'float'),\n",
        "    (\"preco_melhor_oferta_compra\", 13, 'float'),\n",
        "    (\"preco_melhor_oferta_venda\", 13, 'float'),\n",
        "    (\"numero_negocios\", 5, 'int'),\n",
        "    (\"quantidade_papeis_negociados\", 18, 'int'),\n",
        "    (\"volume_total_negociado\", 18, 'float'),\n",
        "    (\"preco_exercicio\", 13, 'float'),\n",
        "    (\"indicador_correcao_precos\", 1, 'str'),\n",
        "    (\"data_vencimento\", 8, 'datetime'),\n",
        "    (\"fator_cotacao\", 7, 'int'),\n",
        "    (\"preco_exercicio_pontos\", 13, 'float'),\n",
        "    (\"codigo_isin\", 12, 'str'),\n",
        "    (\"num_distribuicao_papel\", 3, 'str')\n",
        "]\n"
      ],
      "metadata": {
        "id": "c8hzjMhDWK4g"
      },
      "execution_count": 5,
      "outputs": []
    },
    {
      "cell_type": "code",
      "source": [
        "def importar_arquivo_b3(caminho_arquivo, nrows=None):\n",
        "    \"\"\"\n",
        "    Função para importar dados de um arquivo no formato B3 (BM&FBOVESPA) e verificar a consistência.\n",
        "\n",
        "    Parâmetros:\n",
        "    - caminho_arquivo (str): O caminho do arquivo a ser importado.\n",
        "    - nrows (int or None): Número de linhas a serem lidas do arquivo. Se None, lê todas as linhas.\n",
        "\n",
        "    Retorna:\n",
        "    - pd.DataFrame: Um DataFrame contendo os dados importados.\n",
        "\n",
        "    A função lê o arquivo, realiza a importação para um DataFrame e verifica a consistência comparando a quantidade\n",
        "    de registros importados com a quantidade informada no trailer.\n",
        "    \"\"\"\n",
        "    inicio = datetime.now()\n",
        "    print('Inicio da leitura:', inicio)\n",
        "\n",
        "    # Definir os tipos de dados para cada coluna\n",
        "    dtype_mapping = {\n",
        "        field[0]: (\n",
        "            'datetime64[ns]' if field[2] == 'datetime' else\n",
        "            (float if field[2] == 'float' else\n",
        "            (int if field[2] == 'int' else 'str'))\n",
        "        ) for field in layout\n",
        "    }\n",
        "\n",
        "    largura_campo = [field[1] for field in layout]\n",
        "\n",
        "    # Ler o arquivo diretamente com Pandas, lendo apenas as primeiras linhas se nrows for especificado\n",
        "    df = pd.read_fwf(\n",
        "        caminho_arquivo,\n",
        "        widths=largura_campo,\n",
        "        dtype=dtype_mapping,\n",
        "        nrows=nrows,  # Número de linhas a serem lidas\n",
        "        skipheader=1, # pula o header\n",
        "        skipfooter=1 if nrows is None else 0 # pula o trailer quando lê arquivo completo\n",
        "    )\n",
        "\n",
        "    # Renomear as colunas\n",
        "    df.columns = [field[0] for field in layout]\n",
        "\n",
        "    # Converter a colunas com datas para datetime64[ns]\n",
        "    df['data_pregao'] = pd.to_datetime(df['data_pregao'], format='%Y%m%d', errors='coerce')\n",
        "    df['data_vencimento'] = pd.to_datetime(df['data_vencimento'], format='%Y%m%d', errors='coerce')\n",
        "    # Arredondar campos para duas casas decimais\n",
        "    decimal_fields = [field[0] for field in layout if field[2] == 'float']\n",
        "    df[decimal_fields] = df[decimal_fields] / 100\n",
        "    # Formatar o campo 'preco_exercicio_pontos' com 6 casas decimais\n",
        "    df['preco_exercicio_pontos'] = df['preco_exercicio_pontos'] / 1e6\n",
        "    # Aplicar formatação específica apenas para o campo volume_total_negociado\n",
        "    df['volume_total_negociado'] = df['volume_total_negociado'].apply(lambda x: '{:.2f}'.format(x))\n",
        "\n",
        "    # Exibir a quantidade de linhas importadas\n",
        "    # print('Quantidade de linhas importadas:', len(df))\n",
        "\n",
        "    if nrows is None:\n",
        "        # Se lendo todas as linhas, verificar o trailer\n",
        "        # Exibir a quantidade lida no trailer (posições 32 a 42)\n",
        "        with open(caminho_arquivo, 'r') as file:\n",
        "            lines = file.readlines()\n",
        "            trailer = lines[-1]\n",
        "            quantidade_lida_no_trailer = int(trailer[32:42])-2  # exclui header e trailer\n",
        "\n",
        "        if len(df) == quantidade_lida_no_trailer:\n",
        "            print(f'\\n#### Arquivo importado com sucesso! - {len(df):,.0f} registros em {(datetime.now() - inicio)} ####')\n",
        "        else:\n",
        "            print(f'\\n---- Arquivo não foi importado corretamente! ----')\n",
        "            print(f'---- Foram importadas {len(df):,.0f} linhas, mas o trailer indica {quantidade_lida_no_trailer} linhas. ----')\n",
        "    else:\n",
        "            print(f'\\n---- Foram importadas {len(df):,.0f} linhas. ----')\n",
        "\n",
        "    print('\\nFim da leitura:', datetime.now())\n",
        "    return df\n",
        "\n",
        "# Exemplo de uso da função, lendo apenas as primeiras 10 linhas\n",
        "caminho_do_arquivo = '/content/COTAHIST_A2024.TXT'\n",
        "# df = importar_arquivo_b3(caminho_do_arquivo, nrows=3)\n",
        "df = importar_arquivo_b3(caminho_do_arquivo,)\n"
      ],
      "metadata": {
        "colab": {
          "base_uri": "https://localhost:8080/",
          "height": 349
        },
        "id": "lQMYxxHdguXM",
        "outputId": "e0f2570f-b40f-4486-f575-d299acd5d6b7"
      },
      "execution_count": 6,
      "outputs": [
        {
          "output_type": "stream",
          "name": "stdout",
          "text": [
            "Inicio da leitura: 2024-02-08 13:03:57.199351\n"
          ]
        },
        {
          "output_type": "error",
          "ename": "ValueError",
          "evalue": "invalid literal for int() with base 10: 'SA     ON '",
          "traceback": [
            "\u001b[0;31m---------------------------------------------------------------------------\u001b[0m",
            "\u001b[0;31mValueError\u001b[0m                                Traceback (most recent call last)",
            "\u001b[0;32m<ipython-input-6-8392640c05cb>\u001b[0m in \u001b[0;36m<cell line: 78>\u001b[0;34m()\u001b[0m\n\u001b[1;32m     76\u001b[0m \u001b[0mcaminho_do_arquivo\u001b[0m \u001b[0;34m=\u001b[0m \u001b[0;34m'/content/COTAHIST_A2024.TXT'\u001b[0m\u001b[0;34m\u001b[0m\u001b[0;34m\u001b[0m\u001b[0m\n\u001b[1;32m     77\u001b[0m \u001b[0;31m# df = importar_arquivo_b3(caminho_do_arquivo, nrows=3)\u001b[0m\u001b[0;34m\u001b[0m\u001b[0;34m\u001b[0m\u001b[0m\n\u001b[0;32m---> 78\u001b[0;31m \u001b[0mdf\u001b[0m \u001b[0;34m=\u001b[0m \u001b[0mimportar_arquivo_b3\u001b[0m\u001b[0;34m(\u001b[0m\u001b[0mcaminho_do_arquivo\u001b[0m\u001b[0;34m,\u001b[0m\u001b[0;34m)\u001b[0m\u001b[0;34m\u001b[0m\u001b[0;34m\u001b[0m\u001b[0m\n\u001b[0m",
            "\u001b[0;32m<ipython-input-6-8392640c05cb>\u001b[0m in \u001b[0;36mimportar_arquivo_b3\u001b[0;34m(caminho_arquivo, nrows)\u001b[0m\n\u001b[1;32m     60\u001b[0m             \u001b[0mlines\u001b[0m \u001b[0;34m=\u001b[0m \u001b[0mfile\u001b[0m\u001b[0;34m.\u001b[0m\u001b[0mreadlines\u001b[0m\u001b[0;34m(\u001b[0m\u001b[0;34m)\u001b[0m\u001b[0;34m\u001b[0m\u001b[0;34m\u001b[0m\u001b[0m\n\u001b[1;32m     61\u001b[0m             \u001b[0mtrailer\u001b[0m \u001b[0;34m=\u001b[0m \u001b[0mlines\u001b[0m\u001b[0;34m[\u001b[0m\u001b[0;34m-\u001b[0m\u001b[0;36m1\u001b[0m\u001b[0;34m]\u001b[0m\u001b[0;34m\u001b[0m\u001b[0;34m\u001b[0m\u001b[0m\n\u001b[0;32m---> 62\u001b[0;31m             \u001b[0mquantidade_lida_no_trailer\u001b[0m \u001b[0;34m=\u001b[0m \u001b[0mint\u001b[0m\u001b[0;34m(\u001b[0m\u001b[0mtrailer\u001b[0m\u001b[0;34m[\u001b[0m\u001b[0;36m32\u001b[0m\u001b[0;34m:\u001b[0m\u001b[0;36m42\u001b[0m\u001b[0;34m]\u001b[0m\u001b[0;34m)\u001b[0m\u001b[0;34m-\u001b[0m\u001b[0;36m2\u001b[0m  \u001b[0;31m# exclui header e trailer\u001b[0m\u001b[0;34m\u001b[0m\u001b[0;34m\u001b[0m\u001b[0m\n\u001b[0m\u001b[1;32m     63\u001b[0m \u001b[0;34m\u001b[0m\u001b[0m\n\u001b[1;32m     64\u001b[0m         \u001b[0;32mif\u001b[0m \u001b[0mlen\u001b[0m\u001b[0;34m(\u001b[0m\u001b[0mdf\u001b[0m\u001b[0;34m)\u001b[0m \u001b[0;34m==\u001b[0m \u001b[0mquantidade_lida_no_trailer\u001b[0m\u001b[0;34m:\u001b[0m\u001b[0;34m\u001b[0m\u001b[0;34m\u001b[0m\u001b[0m\n",
            "\u001b[0;31mValueError\u001b[0m: invalid literal for int() with base 10: 'SA     ON '"
          ]
        }
      ]
    },
    {
      "cell_type": "code",
      "source": [
        "df.dtypes\n"
      ],
      "metadata": {
        "id": "B46l12wIcZz9"
      },
      "execution_count": null,
      "outputs": []
    },
    {
      "cell_type": "code",
      "source": [
        "df"
      ],
      "metadata": {
        "id": "3Ypa7qYfJmuI"
      },
      "execution_count": null,
      "outputs": []
    },
    {
      "cell_type": "markdown",
      "source": [
        "# Tipos de Mercado\n",
        "\n",
        "*   **010** VISTA\n",
        "*   **012** EXERCÍCIO DE OPÇÕES DE COMPRA,\n",
        "*   **013** EXERCÍCIO DE OPÇÕES DE VENDA,\n",
        "*   **017** LEILÃO,\n",
        "*   **020** FRACIONÁRIO,\n",
        "*   **030** TERMO,\n",
        "*   **050** FUTURO COM RETENÇÃO DE GANHO,\n",
        "*   **060** FUTURO COM MOVIMENTAÇÃO CONTÍNUA,\n",
        "*   **070** OPÇÕES DE COMPRA,\n",
        "*   **080** OPÇÕES DE VENDA\n"
      ],
      "metadata": {
        "id": "vGlCE3BQGhAC"
      }
    },
    {
      "cell_type": "code",
      "source": [
        "def filtrar_tipo_mercado(df):\n",
        "    \"\"\"\n",
        "    Função para filtrar um DataFrame com base no tipo de mercado.\n",
        "\n",
        "    Parâmetros:\n",
        "    - df (pd.DataFrame): O DataFrame contendo os dados a serem filtrados.\n",
        "\n",
        "    Retorna:\n",
        "    - pd.DataFrame: Um DataFrame contendo apenas os registros do tipo mercado à vista.\n",
        "    - pd.DataFrame: Um DataFrame contendo apenas os registros do tipo opções.\n",
        "    \"\"\"\n",
        "    # Filtrar mercado à vista (tipo_mercado = 10)\n",
        "    mercado_a_vista_df = df[df['tipo_mercado'] == 10]\n",
        "\n",
        "    # Filtrar opções (tipo_mercado igual a 70 ou 80)\n",
        "    opcoes_df = df[df['tipo_mercado'].isin([70, 80])]\n",
        "\n",
        "    return mercado_a_vista_df, opcoes_df\n",
        "\n",
        "# Aplicar a função de filtragem\n",
        "mercado_a_vista, opcoes = filtrar_tipo_mercado(df)\n"
      ],
      "metadata": {
        "id": "Sj0GqQOVKwDG"
      },
      "execution_count": null,
      "outputs": []
    },
    {
      "cell_type": "markdown",
      "source": [
        "#Mercado a vista - Ações"
      ],
      "metadata": {
        "id": "xrXXllHaD6fO"
      }
    },
    {
      "cell_type": "code",
      "source": [
        "mercado_a_vista"
      ],
      "metadata": {
        "id": "4rtUz2V8LhbB"
      },
      "execution_count": null,
      "outputs": []
    },
    {
      "cell_type": "code",
      "source": [
        "mercado_a_vista_filtro = mercado_a_vista.loc[:, ['data_pregao', 'cod_negociacao', 'especificacao_papel', 'preco_ultimo_negocio', 'volume_total_negociado']]\n",
        "mercado_a_vista_filtro = mercado_a_vista_filtro.set_index('data_pregao')\n",
        "mercado_a_vista_filtro\n"
      ],
      "metadata": {
        "id": "EyVvYhAv3qYh"
      },
      "execution_count": null,
      "outputs": []
    },
    {
      "cell_type": "code",
      "source": [
        "def plotar_grafico(df, codigo_negociacao, incluir_tendencia=False):\n",
        "    # Tratar o código de negociação para maiúsculas\n",
        "    codigo_negociacao = codigo_negociacao.upper()\n",
        "\n",
        "    # Filtrar o DataFrame pelo código de negociação\n",
        "    df_codigo = df[df['cod_negociacao'] == codigo_negociacao]\n",
        "\n",
        "    # Configurar o estilo do seaborn para melhorar a aparência do gráfico\n",
        "    sns.set(style=\"whitegrid\")\n",
        "    # Criar o gráfico\n",
        "    plt.figure(figsize=(12, 5))\n",
        "    # Adicionar o gráfico de linhas\n",
        "    sns.lineplot(x=df_codigo.index, y='preco_ultimo_negocio', data=df_codigo, label='Preço Último Negócio')\n",
        "\n",
        "    # Adicionar rótulos e título\n",
        "    plt.title(f'Preço Último Negócio - {codigo_negociacao}')\n",
        "    plt.xlabel('')\n",
        "    plt.ylabel('Preço Último Negócio')\n",
        "\n",
        "    # Adicionar marcadores para ponto de máximo e mínimo\n",
        "    max_index = df_codigo['preco_ultimo_negocio'].idxmax(); min_index = df_codigo['preco_ultimo_negocio'].idxmin()\n",
        "    max_value = df_codigo.loc[max_index, 'preco_ultimo_negocio']; min_value = df_codigo.loc[min_index, 'preco_ultimo_negocio']\n",
        "\n",
        "    plt.scatter(max_index, max_value, color='green', marker='o', label=f'Máximo: {max_value:.2f}')\n",
        "    plt.scatter(min_index, min_value, color='red', marker='o', label=f'Mínimo: {min_value:.2f}')\n",
        "    # Adicionar anotações de texto\n",
        "    plt.annotate(f'{max_value:.2f}', (max_index, max_value), textcoords=\"offset points\", xytext=(0,10), ha='center', fontsize=9, color='black', weight='bold')\n",
        "    plt.annotate(f'{min_value:.2f}', (min_index, min_value), textcoords=\"offset points\", xytext=(0,10), ha='center', fontsize=9, color='black', weight='bold')\n",
        "\n",
        "    plt.legend()\n",
        "    plt.xticks(rotation=35, fontsize=9)\n",
        "    # Exibir o gráfico\n",
        "    plt.show()\n",
        "\n",
        "# Exemplo de uso\n",
        "plotar_grafico(mercado_a_vista_filtro, 'petr4', incluir_tendencia=True)\n"
      ],
      "metadata": {
        "id": "dppX5nrk_UQE"
      },
      "execution_count": null,
      "outputs": []
    },
    {
      "cell_type": "markdown",
      "source": [
        "#Mercado de Opções"
      ],
      "metadata": {
        "id": "Zis2LBlWDpNo"
      }
    },
    {
      "cell_type": "code",
      "source": [
        "opcoes"
      ],
      "metadata": {
        "id": "BxoQjI5ZMb-C"
      },
      "execution_count": null,
      "outputs": []
    },
    {
      "cell_type": "code",
      "source": [
        "op_filtro = opcoes.loc[:, ['data_pregao', 'cod_negociacao', 'preco_ultimo_negocio', 'preco_exercicio', 'data_vencimento']]\n",
        "op_filtro = op_filtro.set_index('data_pregao')\n",
        "op_filtro\n"
      ],
      "metadata": {
        "id": "aiA93YqT2oZs"
      },
      "execution_count": null,
      "outputs": []
    },
    {
      "cell_type": "markdown",
      "source": [
        "##Visualizar opções de ativo específico"
      ],
      "metadata": {
        "id": "kuisMwbuLx89"
      }
    },
    {
      "cell_type": "code",
      "source": [
        "def filtrar_registros_prefixo(df, coluna, prefixo):\n",
        "    \"\"\"\n",
        "    Filtra os registros do DataFrame onde a coluna especificada começa com o prefixo fornecido.\n",
        "\n",
        "    Parâmetros:\n",
        "    - df (pd.DataFrame): O DataFrame a ser filtrado.\n",
        "    - coluna (str): O nome da coluna para aplicar o filtro.\n",
        "    - prefixo (str): O prefixo desejado.\n",
        "\n",
        "    Retorna:\n",
        "    - pd.DataFrame: Um novo DataFrame contendo apenas os registros que atendem ao critério.\n",
        "    \"\"\"\n",
        "    return df[df[coluna].str.lower().str.startswith(prefixo.lower())]\n",
        "\n",
        "# Exemplo de uso\n",
        "opcoes_df = filtrar_registros_prefixo(op_filtro, 'cod_negociacao', 'petr')\n",
        "opcoes_df"
      ],
      "metadata": {
        "id": "IHg5BtZRYEKL"
      },
      "execution_count": null,
      "outputs": []
    },
    {
      "cell_type": "code",
      "source": [
        "def plotar_grafico_multi_ativos(df, codigos_negociacao, incluir_tendencia=False):\n",
        "    # Tratar os códigos de negociação para maiúsculas\n",
        "    codigos_negociacao = [codigo.upper() for codigo in codigos_negociacao]\n",
        "    # Filtrar o DataFrame pelos códigos de negociação\n",
        "    df_codigos = df[df['cod_negociacao'].isin(codigos_negociacao)]\n",
        "\n",
        "    # Configurar o estilo do seaborn para melhorar a aparência do gráfico\n",
        "    sns.set(style=\"whitegrid\")\n",
        "    # Criar o gráfico\n",
        "    plt.figure(figsize=(12, 5))\n",
        "\n",
        "    # Adicionar os gráficos de linhas para cada ativo\n",
        "    for codigo in codigos_negociacao:\n",
        "        df_codigo = df_codigos[df_codigos['cod_negociacao'] == codigo]\n",
        "        sns.lineplot(x=df_codigo.index, y='preco_ultimo_negocio', data=df_codigo, label=f'Preço {codigo}')\n",
        "\n",
        "    # Adicionar rótulos e título\n",
        "    plt.title(f'Preço Último Negócio - {codigos_negociacao}')\n",
        "    plt.xlabel('')\n",
        "    plt.ylabel('Preço Último Negócio')\n",
        "\n",
        "    # Adicionar marcadores para ponto de máximo e mínimo para cada ativo\n",
        "    for codigo in codigos_negociacao:\n",
        "        df_codigo = df_codigos[df_codigos['cod_negociacao'] == codigo]\n",
        "        max_index = df_codigo['preco_ultimo_negocio'].idxmax()\n",
        "        min_index = df_codigo['preco_ultimo_negocio'].idxmin()\n",
        "\n",
        "        max_value = df_codigo.loc[max_index, 'preco_ultimo_negocio']\n",
        "        min_value = df_codigo.loc[min_index, 'preco_ultimo_negocio']\n",
        "\n",
        "        plt.scatter(max_index, max_value, marker='o', label=f'Máximo {codigo}: {max_value:.2f}')\n",
        "        plt.scatter(min_index, min_value, marker='o', label=f'Mínimo {codigo}: {min_value:.2f}')\n",
        "        # Adicionar anotações de texto\n",
        "        plt.annotate(f'{max_value:.2f}', (max_index, max_value), textcoords=\"offset points\", xytext=(0,10), ha='center', fontsize=9, color='black', weight='bold')\n",
        "        plt.annotate(f'{min_value:.2f}', (min_index, min_value), textcoords=\"offset points\", xytext=(0,10), ha='center', fontsize=9, color='black', weight='bold')\n",
        "\n",
        "    # plt.legend()\n",
        "    plt.xticks(rotation=35, fontsize=9)\n",
        "    # Exibir o gráfico\n",
        "    plt.show()\n",
        "\n",
        "# Exemplo de uso com até 4 ativos\n",
        "# plotar_grafico_multi_ativos(opcoes, ['PETRX299', 'PETRX45', 'PETRX450', 'PETRX560'], incluir_tendencia=True)\n",
        "plotar_grafico_multi_ativos(opcoes, ['PETRX45', 'PETRX560'], incluir_tendencia=True)\n"
      ],
      "metadata": {
        "id": "yNCVftShaXUW"
      },
      "execution_count": null,
      "outputs": []
    },
    {
      "cell_type": "code",
      "source": [],
      "metadata": {
        "id": "1--k49eqaFxY"
      },
      "execution_count": null,
      "outputs": []
    }
  ]
}